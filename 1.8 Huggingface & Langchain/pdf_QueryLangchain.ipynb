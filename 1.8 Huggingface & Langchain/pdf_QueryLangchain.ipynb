{
 "cells": [
  {
   "cell_type": "code",
   "execution_count": null,
   "metadata": {},
   "outputs": [],
   "source": [
    "{\n",
    "  \"clientId\": \"YTgrTFreydEbhMYTccHZczwp\",\n",
    "  \"secret\": \"tXHwAtEkg6+Iu1t6qUI6vhg3ZwqG4UuQnZD6M8sMdJ16iZa5v57XBnUU8x0ZBDWL5hYKf_QEN107HbbMRb0IPIPSbXLI5oPr_McDlYQxD31jiU9Z5CtObKK8WiuTZxS1\",\n",
    "  \"token\": \"AstraCS:YTgrTFreydEbhMYTccHZczwp:9e22d486869797839f877e5a78d459928a296a135a4cfe47a4a4a9bb48ea2f26\"\n",
    "}"
   ]
  }
 ],
 "metadata": {
  "kernelspec": {
   "display_name": ".venv",
   "language": "python",
   "name": "python3"
  },
  "language_info": {
   "name": "python",
   "version": "3.11.4"
  }
 },
 "nbformat": 4,
 "nbformat_minor": 2
}
